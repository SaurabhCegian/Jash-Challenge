{
  "nbformat": 4,
  "nbformat_minor": 0,
  "metadata": {
    "colab": {
      "name": "jash_problem2.ipynb",
      "provenance": [],
      "collapsed_sections": []
    },
    "kernelspec": {
      "name": "python3",
      "display_name": "Python 3"
    }
  },
  "cells": [
    {
      "cell_type": "code",
      "metadata": {
        "id": "XInAV47vbsHz",
        "colab_type": "code",
        "colab": {
          "base_uri": "https://localhost:8080/",
          "height": 71
        },
        "outputId": "54349cb5-f6ac-4760-ef94-79dc3a4c8266"
      },
      "source": [
        "import numpy as np\n",
        "import pandas as pd\n",
        "import matplotlib as plt\n",
        "import seaborn as sns"
      ],
      "execution_count": null,
      "outputs": [
        {
          "output_type": "stream",
          "text": [
            "/usr/local/lib/python3.6/dist-packages/statsmodels/tools/_testing.py:19: FutureWarning: pandas.util.testing is deprecated. Use the functions in the public API at pandas.testing instead.\n",
            "  import pandas.util.testing as tm\n"
          ],
          "name": "stderr"
        }
      ]
    },
    {
      "cell_type": "markdown",
      "metadata": {
        "id": "2SYTBb0RecDb",
        "colab_type": "text"
      },
      "source": [
        "**1. Load the data into a Pandas dataframe**"
      ]
    },
    {
      "cell_type": "code",
      "metadata": {
        "id": "Y38uwqGUb5hg",
        "colab_type": "code",
        "colab": {}
      },
      "source": [
        "dataframe = pd.read_csv(\"/content/challenge2_input.csv\")"
      ],
      "execution_count": null,
      "outputs": []
    },
    {
      "cell_type": "markdown",
      "metadata": {
        "id": "8BtlRUQdehHv",
        "colab_type": "text"
      },
      "source": [
        "**Exploratory Data Analysis**"
      ]
    },
    {
      "cell_type": "code",
      "metadata": {
        "id": "W5wZtZk7b-w2",
        "colab_type": "code",
        "colab": {
          "base_uri": "https://localhost:8080/",
          "height": 204
        },
        "outputId": "64ee9edb-2ecb-45e9-f3b7-4182ef709146"
      },
      "source": [
        "dataframe.head()"
      ],
      "execution_count": null,
      "outputs": [
        {
          "output_type": "execute_result",
          "data": {
            "text/html": [
              "<div>\n",
              "<style scoped>\n",
              "    .dataframe tbody tr th:only-of-type {\n",
              "        vertical-align: middle;\n",
              "    }\n",
              "\n",
              "    .dataframe tbody tr th {\n",
              "        vertical-align: top;\n",
              "    }\n",
              "\n",
              "    .dataframe thead th {\n",
              "        text-align: right;\n",
              "    }\n",
              "</style>\n",
              "<table border=\"1\" class=\"dataframe\">\n",
              "  <thead>\n",
              "    <tr style=\"text-align: right;\">\n",
              "      <th></th>\n",
              "      <th>scheme_code</th>\n",
              "      <th>scheme_name</th>\n",
              "      <th>div_growth</th>\n",
              "      <th>div_reinvest</th>\n",
              "      <th>nav</th>\n",
              "      <th>nav_date</th>\n",
              "    </tr>\n",
              "  </thead>\n",
              "  <tbody>\n",
              "    <tr>\n",
              "      <th>0</th>\n",
              "      <td>118825.0</td>\n",
              "      <td>Mirae Asset Large Cap Fund - Direct Plan - Growth</td>\n",
              "      <td>INF769K01AX2</td>\n",
              "      <td>NaN</td>\n",
              "      <td>36.768</td>\n",
              "      <td>23 Mar 2020</td>\n",
              "    </tr>\n",
              "    <tr>\n",
              "      <th>1</th>\n",
              "      <td>118825.0</td>\n",
              "      <td>Mirae Asset Large Cap Fund - Direct Plan - Growth</td>\n",
              "      <td>INF769K01AX2</td>\n",
              "      <td>NaN</td>\n",
              "      <td>37.772</td>\n",
              "      <td>24 Mar 2020</td>\n",
              "    </tr>\n",
              "    <tr>\n",
              "      <th>2</th>\n",
              "      <td>118825.0</td>\n",
              "      <td>Mirae Asset Large Cap Fund - Direct Plan - Growth</td>\n",
              "      <td>INF769K01AX2</td>\n",
              "      <td>NaN</td>\n",
              "      <td>39.123</td>\n",
              "      <td>3 Apr 2020</td>\n",
              "    </tr>\n",
              "    <tr>\n",
              "      <th>3</th>\n",
              "      <td>118825.0</td>\n",
              "      <td>Mirae Asset Large Cap Fund - Direct Plan - Growth</td>\n",
              "      <td>INF769K01AX2</td>\n",
              "      <td>NaN</td>\n",
              "      <td>39.895</td>\n",
              "      <td>25 Mar 2020</td>\n",
              "    </tr>\n",
              "    <tr>\n",
              "      <th>4</th>\n",
              "      <td>118825.0</td>\n",
              "      <td>Mirae Asset Large Cap Fund - Direct Plan - Growth</td>\n",
              "      <td>INF769K01AX2</td>\n",
              "      <td>NaN</td>\n",
              "      <td>40.068</td>\n",
              "      <td>1 Apr 2020</td>\n",
              "    </tr>\n",
              "  </tbody>\n",
              "</table>\n",
              "</div>"
            ],
            "text/plain": [
              "   scheme_code  ...     nav_date\n",
              "0     118825.0  ...  23 Mar 2020\n",
              "1     118825.0  ...  24 Mar 2020\n",
              "2     118825.0  ...   3 Apr 2020\n",
              "3     118825.0  ...  25 Mar 2020\n",
              "4     118825.0  ...   1 Apr 2020\n",
              "\n",
              "[5 rows x 6 columns]"
            ]
          },
          "metadata": {
            "tags": []
          },
          "execution_count": 3
        }
      ]
    },
    {
      "cell_type": "code",
      "metadata": {
        "id": "ptzlSbCLcV_s",
        "colab_type": "code",
        "colab": {
          "base_uri": "https://localhost:8080/",
          "height": 34
        },
        "outputId": "f630d8ba-3268-4fc1-a188-6e76a4255b0e"
      },
      "source": [
        "dataframe.shape"
      ],
      "execution_count": null,
      "outputs": [
        {
          "output_type": "execute_result",
          "data": {
            "text/plain": [
              "(95, 6)"
            ]
          },
          "metadata": {
            "tags": []
          },
          "execution_count": 4
        }
      ]
    },
    {
      "cell_type": "code",
      "metadata": {
        "id": "3qrjchtTcvoD",
        "colab_type": "code",
        "colab": {
          "base_uri": "https://localhost:8080/",
          "height": 136
        },
        "outputId": "90e486d1-12de-416c-957d-da8cabdb0bc3"
      },
      "source": [
        "dataframe.isnull().sum()"
      ],
      "execution_count": null,
      "outputs": [
        {
          "output_type": "execute_result",
          "data": {
            "text/plain": [
              "scheme_code      8\n",
              "scheme_name      0\n",
              "div_growth       0\n",
              "div_reinvest    95\n",
              "nav             20\n",
              "nav_date         0\n",
              "dtype: int64"
            ]
          },
          "metadata": {
            "tags": []
          },
          "execution_count": 5
        }
      ]
    },
    {
      "cell_type": "code",
      "metadata": {
        "id": "2OGcStSlKinB",
        "colab_type": "code",
        "colab": {
          "base_uri": "https://localhost:8080/",
          "height": 349
        },
        "outputId": "8f4d3fa5-06d3-4046-9870-a78f0aa7617c"
      },
      "source": [
        "# heatmap for null\n",
        "sns.heatmap(dataframe.isnull(), yticklabels=False, cmap=\"viridis\")"
      ],
      "execution_count": null,
      "outputs": [
        {
          "output_type": "execute_result",
          "data": {
            "text/plain": [
              "<matplotlib.axes._subplots.AxesSubplot at 0x7fd998983cf8>"
            ]
          },
          "metadata": {
            "tags": []
          },
          "execution_count": 6
        },
        {
          "output_type": "display_data",
          "data": {
            "image/png": "[encoded data removed]",
            "text/plain": [
              "<Figure size 432x288 with 2 Axes>"
            ]
          },
          "metadata": {
            "tags": [],
            "needs_background": "light"
          }
        }
      ]
    },
    {
      "cell_type": "markdown",
      "metadata": {
        "id": "FeNeUuywetkM",
        "colab_type": "text"
      },
      "source": [
        "**2. Remove records where scheme_code is NULL**"
      ]
    },
    {
      "cell_type": "code",
      "metadata": {
        "id": "JbXeP9u1c9Yk",
        "colab_type": "code",
        "colab": {}
      },
      "source": [
        "dataframe = dataframe.drop(dataframe[dataframe.scheme_code.isnull()].index)"
      ],
      "execution_count": null,
      "outputs": []
    },
    {
      "cell_type": "markdown",
      "metadata": {
        "id": "UfHJRU9VevxI",
        "colab_type": "text"
      },
      "source": [
        "**3. Sort the data by nav_date**"
      ]
    },
    {
      "cell_type": "code",
      "metadata": {
        "id": "rMHmob2YeQTX",
        "colab_type": "code",
        "colab": {
          "base_uri": "https://localhost:8080/",
          "height": 419
        },
        "outputId": "ceccd199-e6d6-4280-da5c-2353ff3a6902"
      },
      "source": [
        "dataframe.sort_values(by='nav_date', ascending=True)"
      ],
      "execution_count": null,
      "outputs": [
        {
          "output_type": "execute_result",
          "data": {
            "text/html": [
              "<div>\n",
              "<style scoped>\n",
              "    .dataframe tbody tr th:only-of-type {\n",
              "        vertical-align: middle;\n",
              "    }\n",
              "\n",
              "    .dataframe tbody tr th {\n",
              "        vertical-align: top;\n",
              "    }\n",
              "\n",
              "    .dataframe thead th {\n",
              "        text-align: right;\n",
              "    }\n",
              "</style>\n",
              "<table border=\"1\" class=\"dataframe\">\n",
              "  <thead>\n",
              "    <tr style=\"text-align: right;\">\n",
              "      <th></th>\n",
              "      <th>scheme_code</th>\n",
              "      <th>scheme_name</th>\n",
              "      <th>div_growth</th>\n",
              "      <th>div_reinvest</th>\n",
              "      <th>nav</th>\n",
              "      <th>nav_date</th>\n",
              "    </tr>\n",
              "  </thead>\n",
              "  <tbody>\n",
              "    <tr>\n",
              "      <th>4</th>\n",
              "      <td>118825.0</td>\n",
              "      <td>Mirae Asset Large Cap Fund - Direct Plan - Growth</td>\n",
              "      <td>INF769K01AX2</td>\n",
              "      <td>NaN</td>\n",
              "      <td>40.068</td>\n",
              "      <td>1 Apr 2020</td>\n",
              "    </tr>\n",
              "    <tr>\n",
              "      <th>73</th>\n",
              "      <td>118825.0</td>\n",
              "      <td>Mirae Asset Large Cap Fund - Direct Plan - Growth</td>\n",
              "      <td>INF769K01AX2</td>\n",
              "      <td>NaN</td>\n",
              "      <td>57.790</td>\n",
              "      <td>11 Feb 2020</td>\n",
              "    </tr>\n",
              "    <tr>\n",
              "      <th>47</th>\n",
              "      <td>118825.0</td>\n",
              "      <td>Mirae Asset Large Cap Fund - Direct Plan - Growth</td>\n",
              "      <td>INF769K01AX2</td>\n",
              "      <td>NaN</td>\n",
              "      <td>50.635</td>\n",
              "      <td>11 Mar 2020</td>\n",
              "    </tr>\n",
              "    <tr>\n",
              "      <th>30</th>\n",
              "      <td>118825.0</td>\n",
              "      <td>Mirae Asset Large Cap Fund - Direct Plan - Growth</td>\n",
              "      <td>INF769K01AX2</td>\n",
              "      <td>NaN</td>\n",
              "      <td>44.364</td>\n",
              "      <td>11 May 2020</td>\n",
              "    </tr>\n",
              "    <tr>\n",
              "      <th>84</th>\n",
              "      <td>118825.0</td>\n",
              "      <td>Mirae Asset Large Cap Fund - Direct Plan - Growth</td>\n",
              "      <td>INF769K01AX2</td>\n",
              "      <td>NaN</td>\n",
              "      <td>58.064</td>\n",
              "      <td>12 Feb 2020</td>\n",
              "    </tr>\n",
              "    <tr>\n",
              "      <th>...</th>\n",
              "      <td>...</td>\n",
              "      <td>...</td>\n",
              "      <td>...</td>\n",
              "      <td>...</td>\n",
              "      <td>...</td>\n",
              "      <td>...</td>\n",
              "    </tr>\n",
              "    <tr>\n",
              "      <th>62</th>\n",
              "      <td>118825.0</td>\n",
              "      <td>Mirae Asset Large Cap Fund - Direct Plan - Growth</td>\n",
              "      <td>INF769K01AX2</td>\n",
              "      <td>NaN</td>\n",
              "      <td>57.032</td>\n",
              "      <td>8 Jan 2020</td>\n",
              "    </tr>\n",
              "    <tr>\n",
              "      <th>31</th>\n",
              "      <td>118825.0</td>\n",
              "      <td>Mirae Asset Large Cap Fund - Direct Plan - Growth</td>\n",
              "      <td>INF769K01AX2</td>\n",
              "      <td>NaN</td>\n",
              "      <td>44.370</td>\n",
              "      <td>8 May 2020</td>\n",
              "    </tr>\n",
              "    <tr>\n",
              "      <th>27</th>\n",
              "      <td>118825.0</td>\n",
              "      <td>Mirae Asset Large Cap Fund - Direct Plan - Growth</td>\n",
              "      <td>INF769K01AX2</td>\n",
              "      <td>NaN</td>\n",
              "      <td>44.098</td>\n",
              "      <td>9 Apr 2020</td>\n",
              "    </tr>\n",
              "    <tr>\n",
              "      <th>79</th>\n",
              "      <td>118825.0</td>\n",
              "      <td>Mirae Asset Large Cap Fund - Direct Plan - Growth</td>\n",
              "      <td>INF769K01AX2</td>\n",
              "      <td>NaN</td>\n",
              "      <td>57.903</td>\n",
              "      <td>9 Jan 2020</td>\n",
              "    </tr>\n",
              "    <tr>\n",
              "      <th>48</th>\n",
              "      <td>118825.0</td>\n",
              "      <td>Mirae Asset Large Cap Fund - Direct Plan - Growth</td>\n",
              "      <td>INF769K01AX2</td>\n",
              "      <td>NaN</td>\n",
              "      <td>50.701</td>\n",
              "      <td>9 Mar 2020</td>\n",
              "    </tr>\n",
              "  </tbody>\n",
              "</table>\n",
              "<p>87 rows × 6 columns</p>\n",
              "</div>"
            ],
            "text/plain": [
              "    scheme_code  ...     nav_date\n",
              "4      118825.0  ...   1 Apr 2020\n",
              "73     118825.0  ...  11 Feb 2020\n",
              "47     118825.0  ...  11 Mar 2020\n",
              "30     118825.0  ...  11 May 2020\n",
              "84     118825.0  ...  12 Feb 2020\n",
              "..          ...  ...          ...\n",
              "62     118825.0  ...   8 Jan 2020\n",
              "31     118825.0  ...   8 May 2020\n",
              "27     118825.0  ...   9 Apr 2020\n",
              "79     118825.0  ...   9 Jan 2020\n",
              "48     118825.0  ...   9 Mar 2020\n",
              "\n",
              "[87 rows x 6 columns]"
            ]
          },
          "metadata": {
            "tags": []
          },
          "execution_count": 8
        }
      ]
    },
    {
      "cell_type": "markdown",
      "metadata": {
        "id": "QG6eH-fPiUTA",
        "colab_type": "text"
      },
      "source": [
        "**4. Fill Missing values in nav column by the last known value in the field after sorting by nav_date (Fill forward)**"
      ]
    },
    {
      "cell_type": "code",
      "metadata": {
        "id": "bYJd4GWDgrwZ",
        "colab_type": "code",
        "colab": {}
      },
      "source": [
        "dataframe['nav'] = dataframe['nav'].ffill()"
      ],
      "execution_count": null,
      "outputs": []
    },
    {
      "cell_type": "code",
      "metadata": {
        "id": "PnEEeJLSjS0L",
        "colab_type": "code",
        "colab": {
          "base_uri": "https://localhost:8080/",
          "height": 136
        },
        "outputId": "aab1478c-e3b8-4927-b5d0-4215bfaafeb2"
      },
      "source": [
        "dataframe.isnull().sum()"
      ],
      "execution_count": null,
      "outputs": [
        {
          "output_type": "execute_result",
          "data": {
            "text/plain": [
              "scheme_code      0\n",
              "scheme_name      0\n",
              "div_growth       0\n",
              "div_reinvest    87\n",
              "nav              0\n",
              "nav_date         0\n",
              "dtype: int64"
            ]
          },
          "metadata": {
            "tags": []
          },
          "execution_count": 10
        }
      ]
    },
    {
      "cell_type": "markdown",
      "metadata": {
        "id": "MLP2SFMmk8Mx",
        "colab_type": "text"
      },
      "source": [
        "**5. Save the output dataframe with the name pandas_challenge_output.csv**"
      ]
    },
    {
      "cell_type": "code",
      "metadata": {
        "id": "wd44OkSojYnI",
        "colab_type": "code",
        "colab": {}
      },
      "source": [
        "dataframe.to_csv('pandas_challenge_output.csv', encoding='utf-8')"
      ],
      "execution_count": null,
      "outputs": []
    }
  ]
}